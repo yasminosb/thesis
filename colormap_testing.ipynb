{
 "cells": [
  {
   "cell_type": "code",
   "execution_count": 9,
   "metadata": {},
   "outputs": [
    {
     "name": "stdout",
     "output_type": "stream",
     "text": [
      "0      Adelie\n",
      "1      Adelie\n",
      "2      Adelie\n",
      "3      Adelie\n",
      "4      Adelie\n",
      "        ...  \n",
      "339    Gentoo\n",
      "340    Gentoo\n",
      "341    Gentoo\n",
      "342    Gentoo\n",
      "343    Gentoo\n",
      "Name: species_short, Length: 344, dtype: object\n",
      "0      0\n",
      "1      0\n",
      "2      0\n",
      "3      0\n",
      "4      0\n",
      "      ..\n",
      "339    2\n",
      "340    2\n",
      "341    2\n",
      "342    2\n",
      "343    2\n",
      "Name: species_short, Length: 344, dtype: int64\n",
      "<generator object <genexpr> at 0x0000021CC2B21430>\n"
     ]
    }
   ],
   "source": [
    "import pandas as pd\n",
    "import seaborn as sns\n",
    "import json\n",
    "penguins = pd.read_csv(\"https://github.com/allisonhorst/palmerpenguins/raw/5b5891f01b52ae26ad8cb9755ec93672f49328a8/data/penguins_size.csv\")\n",
    "\n",
    "print(penguins.species_short)\n",
    "print(penguins.species_short.map({\"Adelie\":0, \"Chinstrap\":1, \"Gentoo\":2}))\n",
    "print([x] for x in penguins.species_short.map({\"Adelie\":0, \"Chinstrap\":1, \"Gentoo\":2}))\n",
    "#[sns.color_palette()[x] for x in penguins.species_short.map({\"Adelie\":0, \"Chinstrap\":1, \"Gentoo\":2})]"
   ]
  },
  {
   "cell_type": "code",
   "execution_count": 12,
   "metadata": {},
   "outputs": [],
   "source": [
    "gameplays = pd.json_normalize(pd.Series(open(r\"C:\\Users\\Yasmine Bogaert\\Documents\\thesis\\dump\\dump_30-03-2021\\csv\\gameplays.json\").readlines()).apply(json.loads))\n"
   ]
  },
  {
   "cell_type": "code",
   "execution_count": 61,
   "metadata": {},
   "outputs": [],
   "source": [
    "x = gameplays['actualDistance'].values\n",
    "def normalize_array_between(x, start, end):\n",
    "    width = end - start\n",
    "    return ([(e - x.min())/(x.max() - x.min()) * width + start for e in x])\n",
    "normalized = normalize_array_between(x, 0, 9)\n",
    "normalized_ints = [int(round(e)) for e in normalized]\n",
    "color_palette = [sns.color_palette()[x] for x in normalized_ints]"
   ]
  },
  {
   "cell_type": "code",
   "execution_count": null,
   "metadata": {},
   "outputs": [],
   "source": []
  }
 ],
 "metadata": {
  "kernelspec": {
   "display_name": "Python 3",
   "language": "python",
   "name": "python3"
  },
  "language_info": {
   "codemirror_mode": {
    "name": "ipython",
    "version": 3
   },
   "file_extension": ".py",
   "mimetype": "text/x-python",
   "name": "python",
   "nbconvert_exporter": "python",
   "pygments_lexer": "ipython3",
   "version": "3.8.5"
  }
 },
 "nbformat": 4,
 "nbformat_minor": 4
}
