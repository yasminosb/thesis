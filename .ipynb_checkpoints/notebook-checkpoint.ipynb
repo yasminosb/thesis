{
 "cells": [
  {
   "cell_type": "code",
   "execution_count": 40,
   "metadata": {},
   "outputs": [],
   "source": [
    "import pandas as pd\n",
    "import matplotlib.pyplot as plt\n",
    "import json\n",
    "import numpy as np"
   ]
  },
  {
   "cell_type": "code",
   "execution_count": 2,
   "metadata": {},
   "outputs": [
    {
     "data": {
      "text/plain": [
       "0       0.002\n",
       "1       0.002\n",
       "2       0.002\n",
       "3       0.002\n",
       "4       0.002\n",
       "        ...  \n",
       "1066    0.002\n",
       "1067    0.002\n",
       "1068    0.002\n",
       "1069    0.002\n",
       "1070    0.002\n",
       "Name: parameters.ACCELERATION, Length: 1071, dtype: float64"
      ]
     },
     "execution_count": 2,
     "metadata": {},
     "output_type": "execute_result"
    }
   ],
   "source": [
    "gameplays = pd.json_normalize(pd.Series(open(r\"C:\\Users\\Yasmine Bogaert\\Documents\\thesis\\dump\\dump_30-03-2021\\csv\\gameplays.json\").readlines()).apply(json.loads))\n",
    "gameplays[\"parameters.ACCELERATION\"]"
   ]
  },
  {
   "cell_type": "code",
   "execution_count": 3,
   "metadata": {},
   "outputs": [
    {
     "data": {
      "text/plain": [
       "Index(['UUID', 'events', 'logs', 'obstacles', 'nr_jumps', 'playIntro',\n",
       "       'newHighScore', 'distanceRan', 'actualDistance', 'invertedGameOver',\n",
       "       'obstacleTypes', 'gameOverTime', 'gameOverScreen', 'dateTime', 'USERID',\n",
       "       '_id.$oid', 'collisionObstacle.typeConfig.type',\n",
       "       'collisionObstacle.typeConfig.width',\n",
       "       'collisionObstacle.typeConfig.height',\n",
       "       'collisionObstacle.typeConfig.yPos',\n",
       "       'collisionObstacle.typeConfig.multipleSpeed',\n",
       "       'collisionObstacle.typeConfig.minGap',\n",
       "       'collisionObstacle.typeConfig.minSpeed',\n",
       "       'collisionObstacle.typeConfig.collisionBoxes',\n",
       "       'collisionObstacle.dimensions.WIDTH',\n",
       "       'collisionObstacle.dimensions.HEIGHT', 'collisionObstacle.size',\n",
       "       'collisionObstacle.width', 'collisionObstacle.xPos',\n",
       "       'collisionObstacle.yPos', 'collisionObstacle.collisionBoxes',\n",
       "       'collisionObstacle.speedOffset', 'collisionObstacle.gap',\n",
       "       'runnerConfig.ACCELERATION', 'runnerConfig.BG_CLOUD_SPEED',\n",
       "       'runnerConfig.BOTTOM_PAD', 'runnerConfig.CLEAR_TIME',\n",
       "       'runnerConfig.CLOUD_FREQUENCY', 'runnerConfig.GAMEOVER_CLEAR_TIME',\n",
       "       'runnerConfig.GAP_COEFFICIENT', 'runnerConfig.GRAVITY',\n",
       "       'runnerConfig.INITIAL_JUMP_VELOCITY',\n",
       "       'runnerConfig.INVERT_FADE_DURATION', 'runnerConfig.INVERT_DISTANCE',\n",
       "       'runnerConfig.MAX_BLINK_COUNT', 'runnerConfig.MAX_CLOUDS',\n",
       "       'runnerConfig.MAX_OBSTACLE_LENGTH',\n",
       "       'runnerConfig.MAX_OBSTACLE_DUPLICATION', 'runnerConfig.MAX_SPEED',\n",
       "       'runnerConfig.MIN_JUMP_HEIGHT', 'runnerConfig.MOBILE_SPEED_COEFFICIENT',\n",
       "       'runnerConfig.RESOURCE_TEMPLATE_ID', 'runnerConfig.SPEED',\n",
       "       'runnerConfig.SPEED_DROP_COEFFICIENT',\n",
       "       'runnerConfig.ARCADE_MODE_INITIAL_TOP_POSITION',\n",
       "       'runnerConfig.ARCADE_MODE_TOP_POSITION_PERCENT',\n",
       "       'tRexConfig.DROP_VELOCITY', 'tRexConfig.GRAVITY', 'tRexConfig.HEIGHT',\n",
       "       'tRexConfig.HEIGHT_DUCK', 'tRexConfig.INIITAL_JUMP_VELOCITY',\n",
       "       'tRexConfig.INTRO_DURATION', 'tRexConfig.MAX_JUMP_HEIGHT',\n",
       "       'tRexConfig.MIN_JUMP_HEIGHT', 'tRexConfig.SPEED_DROP_COEFFICIENT',\n",
       "       'tRexConfig.SPRITE_WIDTH', 'tRexConfig.START_X_POS', 'tRexConfig.WIDTH',\n",
       "       'tRexConfig.WIDTH_DUCK', 'parameters.SPEED', 'parameters.ACCELERATION',\n",
       "       'parameters.MIN_GAP', 'parameters.OBSTACLE_TYPES',\n",
       "       'parameters.OBSTACLE_TYPES_SPEC.CACTUS_LARGE',\n",
       "       'parameters.OBSTACLE_TYPES_SPEC.PTERODACTYL',\n",
       "       'parameters.NIGHT_MODE_ENABLED', 'parameters.NIGHT_MODE_DISTANCE',\n",
       "       'parameters.CLEAR_TIME', 'parameters.MAX_OBSTACLE_LENGTH',\n",
       "       'parameters.MAX_SPEED', 'parameters.PTERODACTYL_YPOS',\n",
       "       'parameters.MAX_GAP', 'parameters.OBSTACLE_TYPES_SPEC.CACTUS_SMALL',\n",
       "       'collisionObstacle.typeConfig.yPosMobile',\n",
       "       'collisionObstacle.typeConfig.numFrames',\n",
       "       'collisionObstacle.typeConfig.frameRate',\n",
       "       'collisionObstacle.typeConfig.speedOffset'],\n",
       "      dtype='object')"
      ]
     },
     "execution_count": 3,
     "metadata": {},
     "output_type": "execute_result"
    }
   ],
   "source": [
    "gameplays.columns"
   ]
  },
  {
   "cell_type": "code",
   "execution_count": null,
   "metadata": {},
   "outputs": [],
   "source": []
  },
  {
   "cell_type": "code",
   "execution_count": 34,
   "metadata": {},
   "outputs": [
    {
     "data": {
      "text/html": [
       "<div>\n",
       "<style scoped>\n",
       "    .dataframe tbody tr th:only-of-type {\n",
       "        vertical-align: middle;\n",
       "    }\n",
       "\n",
       "    .dataframe tbody tr th {\n",
       "        vertical-align: top;\n",
       "    }\n",
       "\n",
       "    .dataframe thead th {\n",
       "        text-align: right;\n",
       "    }\n",
       "</style>\n",
       "<table border=\"1\" class=\"dataframe\">\n",
       "  <thead>\n",
       "    <tr style=\"text-align: right;\">\n",
       "      <th></th>\n",
       "      <th>secondlastentry</th>\n",
       "      <th>lastentry</th>\n",
       "      <th>fun</th>\n",
       "      <th>challenging</th>\n",
       "      <th>frustrating</th>\n",
       "      <th>time</th>\n",
       "      <th>USERID</th>\n",
       "      <th>_id.$oid</th>\n",
       "    </tr>\n",
       "  </thead>\n",
       "  <tbody>\n",
       "    <tr>\n",
       "      <th>0</th>\n",
       "      <td>5fb6e066578328c98e6322cf</td>\n",
       "      <td>5fb6e45fb472c8cc964ed7b7</td>\n",
       "      <td>lastentry</td>\n",
       "      <td>lastentry</td>\n",
       "      <td>secondlastentry</td>\n",
       "      <td>22819.465</td>\n",
       "      <td>6597767d-39cf-406d-91aa-c978e9692138</td>\n",
       "      <td>5fb6e479b472c8cc964ed7b8</td>\n",
       "    </tr>\n",
       "    <tr>\n",
       "      <th>1</th>\n",
       "      <td>5fb6e320578328c98e6322d0</td>\n",
       "      <td>5fb6efe9b472c8cc964ed7b9</td>\n",
       "      <td>secondlastentry</td>\n",
       "      <td>lastentry</td>\n",
       "      <td>[secondlastentry, lastentry]</td>\n",
       "      <td>3501.885</td>\n",
       "      <td>4973e61c-c96c-47a0-bbc8-6671d7480341</td>\n",
       "      <td>5fb6eff0b472c8cc964ed7ba</td>\n",
       "    </tr>\n",
       "    <tr>\n",
       "      <th>2</th>\n",
       "      <td>5fb7e437b472c8cc964ed7bc</td>\n",
       "      <td>5fb7e442b472c8cc964ed7bd</td>\n",
       "      <td>lastentry</td>\n",
       "      <td>lastentry</td>\n",
       "      <td>lastentry</td>\n",
       "      <td>6717.495</td>\n",
       "      <td>8284f581-eb66-4c8b-95ce-16b161b68e2a</td>\n",
       "      <td>5fb7e44bb472c8cc964ed7be</td>\n",
       "    </tr>\n",
       "    <tr>\n",
       "      <th>3</th>\n",
       "      <td>5fb7ed35b472c8cc964ed7bf</td>\n",
       "      <td>5fb7ed58b472c8cc964ed7c0</td>\n",
       "      <td>lastentry</td>\n",
       "      <td>neither</td>\n",
       "      <td>neither</td>\n",
       "      <td>19231.370</td>\n",
       "      <td>8b17c68b-e9ff-454c-80c0-41baea4bb272</td>\n",
       "      <td>5fb7ed6eb472c8cc964ed7c1</td>\n",
       "    </tr>\n",
       "    <tr>\n",
       "      <th>4</th>\n",
       "      <td>5fb7eeb8b472c8cc964ed7c2</td>\n",
       "      <td>5fb7eeebb472c8cc964ed7c3</td>\n",
       "      <td>lastentry</td>\n",
       "      <td>secondlastentry</td>\n",
       "      <td>secondlastentry</td>\n",
       "      <td>11961.000</td>\n",
       "      <td>c6291e5d-f5f6-4ed7-b403-818ec9814067</td>\n",
       "      <td>5fb7eefab472c8cc964ed7c4</td>\n",
       "    </tr>\n",
       "    <tr>\n",
       "      <th>...</th>\n",
       "      <td>...</td>\n",
       "      <td>...</td>\n",
       "      <td>...</td>\n",
       "      <td>...</td>\n",
       "      <td>...</td>\n",
       "      <td>...</td>\n",
       "      <td>...</td>\n",
       "      <td>...</td>\n",
       "    </tr>\n",
       "    <tr>\n",
       "      <th>518</th>\n",
       "      <td>605214f21066e2827b2a39ec</td>\n",
       "      <td>6052152e1066e2827b2a39ed</td>\n",
       "      <td>lastentry</td>\n",
       "      <td>lastentry</td>\n",
       "      <td>secondlastentry</td>\n",
       "      <td>11938.165</td>\n",
       "      <td>b565c9e2-fcb8-4d63-acdb-b43ca628ef71</td>\n",
       "      <td>6052153d1066e2827b2a39ee</td>\n",
       "    </tr>\n",
       "    <tr>\n",
       "      <th>519</th>\n",
       "      <td>6052175d1066e2827b2a39ef</td>\n",
       "      <td>605217731066e2827b2a39f0</td>\n",
       "      <td>lastentry</td>\n",
       "      <td>lastentry</td>\n",
       "      <td>secondlastentry</td>\n",
       "      <td>6981.965</td>\n",
       "      <td>b1dbb85d-bdee-436e-b781-e869d7c86a3f</td>\n",
       "      <td>6052177d1066e2827b2a39f1</td>\n",
       "    </tr>\n",
       "    <tr>\n",
       "      <th>520</th>\n",
       "      <td>605217731066e2827b2a39f0</td>\n",
       "      <td>605217c61066e2827b2a39f2</td>\n",
       "      <td>secondlastentry</td>\n",
       "      <td>secondlastentry</td>\n",
       "      <td>lastentry</td>\n",
       "      <td>7266.165</td>\n",
       "      <td>b1dbb85d-bdee-436e-b781-e869d7c86a3f</td>\n",
       "      <td>605217d01066e2827b2a39f3</td>\n",
       "    </tr>\n",
       "    <tr>\n",
       "      <th>521</th>\n",
       "      <td>605625cd1066e2827b2a39fa</td>\n",
       "      <td>605626261066e2827b2a39fb</td>\n",
       "      <td>secondlastentry</td>\n",
       "      <td>secondlastentry</td>\n",
       "      <td>secondlastentry</td>\n",
       "      <td>78137.420</td>\n",
       "      <td>8acb006d-f5e4-467f-8873-ea12705524eb</td>\n",
       "      <td>605626781066e2827b2a39fc</td>\n",
       "    </tr>\n",
       "    <tr>\n",
       "      <th>522</th>\n",
       "      <td>6057708e1066e2827b2a39fd</td>\n",
       "      <td>605770a61066e2827b2a39fe</td>\n",
       "      <td>lastentry</td>\n",
       "      <td>lastentry</td>\n",
       "      <td>neither</td>\n",
       "      <td>10022.760</td>\n",
       "      <td>467c6d9f-4c54-47a7-b843-6cc7cec518d0</td>\n",
       "      <td>605770b21066e2827b2a39ff</td>\n",
       "    </tr>\n",
       "  </tbody>\n",
       "</table>\n",
       "<p>523 rows × 8 columns</p>\n",
       "</div>"
      ],
      "text/plain": [
       "              secondlastentry                 lastentry              fun  \\\n",
       "0    5fb6e066578328c98e6322cf  5fb6e45fb472c8cc964ed7b7        lastentry   \n",
       "1    5fb6e320578328c98e6322d0  5fb6efe9b472c8cc964ed7b9  secondlastentry   \n",
       "2    5fb7e437b472c8cc964ed7bc  5fb7e442b472c8cc964ed7bd        lastentry   \n",
       "3    5fb7ed35b472c8cc964ed7bf  5fb7ed58b472c8cc964ed7c0        lastentry   \n",
       "4    5fb7eeb8b472c8cc964ed7c2  5fb7eeebb472c8cc964ed7c3        lastentry   \n",
       "..                        ...                       ...              ...   \n",
       "518  605214f21066e2827b2a39ec  6052152e1066e2827b2a39ed        lastentry   \n",
       "519  6052175d1066e2827b2a39ef  605217731066e2827b2a39f0        lastentry   \n",
       "520  605217731066e2827b2a39f0  605217c61066e2827b2a39f2  secondlastentry   \n",
       "521  605625cd1066e2827b2a39fa  605626261066e2827b2a39fb  secondlastentry   \n",
       "522  6057708e1066e2827b2a39fd  605770a61066e2827b2a39fe        lastentry   \n",
       "\n",
       "         challenging                   frustrating       time  \\\n",
       "0          lastentry               secondlastentry  22819.465   \n",
       "1          lastentry  [secondlastentry, lastentry]   3501.885   \n",
       "2          lastentry                     lastentry   6717.495   \n",
       "3            neither                       neither  19231.370   \n",
       "4    secondlastentry               secondlastentry  11961.000   \n",
       "..               ...                           ...        ...   \n",
       "518        lastentry               secondlastentry  11938.165   \n",
       "519        lastentry               secondlastentry   6981.965   \n",
       "520  secondlastentry                     lastentry   7266.165   \n",
       "521  secondlastentry               secondlastentry  78137.420   \n",
       "522        lastentry                       neither  10022.760   \n",
       "\n",
       "                                   USERID                  _id.$oid  \n",
       "0    6597767d-39cf-406d-91aa-c978e9692138  5fb6e479b472c8cc964ed7b8  \n",
       "1    4973e61c-c96c-47a0-bbc8-6671d7480341  5fb6eff0b472c8cc964ed7ba  \n",
       "2    8284f581-eb66-4c8b-95ce-16b161b68e2a  5fb7e44bb472c8cc964ed7be  \n",
       "3    8b17c68b-e9ff-454c-80c0-41baea4bb272  5fb7ed6eb472c8cc964ed7c1  \n",
       "4    c6291e5d-f5f6-4ed7-b403-818ec9814067  5fb7eefab472c8cc964ed7c4  \n",
       "..                                    ...                       ...  \n",
       "518  b565c9e2-fcb8-4d63-acdb-b43ca628ef71  6052153d1066e2827b2a39ee  \n",
       "519  b1dbb85d-bdee-436e-b781-e869d7c86a3f  6052177d1066e2827b2a39f1  \n",
       "520  b1dbb85d-bdee-436e-b781-e869d7c86a3f  605217d01066e2827b2a39f3  \n",
       "521  8acb006d-f5e4-467f-8873-ea12705524eb  605626781066e2827b2a39fc  \n",
       "522  467c6d9f-4c54-47a7-b843-6cc7cec518d0  605770b21066e2827b2a39ff  \n",
       "\n",
       "[523 rows x 8 columns]"
      ]
     },
     "execution_count": 34,
     "metadata": {},
     "output_type": "execute_result"
    }
   ],
   "source": [
    "# secondlastentry & lastentry correspond to '_id.$oid' from gameplays db\n",
    "\n",
    "questionresponses = pd.json_normalize(pd.Series(open(r\"C:\\Users\\Yasmine Bogaert\\Documents\\thesis\\dump\\dump_30-03-2021\\csv\\questionresponses.json\").readlines()).apply(json.loads))\n",
    "\n",
    "d = {\n",
    "  \"A\": \"secondlastentry\",\n",
    "  \"B\": \"lastentry\"\n",
    "}\n",
    "def expand_AB(x):\n",
    "    if x in d:\n",
    "        return d[x]\n",
    "    else:\n",
    "        return x\n",
    "\n",
    "def expand_BOTH (x):\n",
    "    if x == \"both\":\n",
    "        return [\"secondlastentry\",\"lastentry\"]\n",
    "    else:\n",
    "        return x\n",
    "    \n",
    "def replace_column(db, column, function):\n",
    "    db[column] = db[column].apply(function)\n",
    "\n",
    "columns = [\"fun\", \"challenging\", \"frustrating\"]\n",
    "\n",
    "def expand_AB_all():\n",
    "    for column in columns:\n",
    "        replace_column(questionresponses, column, lambda x: expand_AB(x))\n",
    "\n",
    "def expand_BOTH_all():\n",
    "    for column in columns:\n",
    "        replace_column(questionresponses, column, lambda x: expand_BOTH(x))\n",
    "expand_AB_all()\n",
    "expand_BOTH_all()\n",
    "questionresponses"
   ]
  },
  {
   "cell_type": "code",
   "execution_count": 5,
   "metadata": {},
   "outputs": [
    {
     "data": {
      "text/html": [
       "<div>\n",
       "<style scoped>\n",
       "    .dataframe tbody tr th:only-of-type {\n",
       "        vertical-align: middle;\n",
       "    }\n",
       "\n",
       "    .dataframe tbody tr th {\n",
       "        vertical-align: top;\n",
       "    }\n",
       "\n",
       "    .dataframe thead th {\n",
       "        text-align: right;\n",
       "    }\n",
       "</style>\n",
       "<table border=\"1\" class=\"dataframe\">\n",
       "  <thead>\n",
       "    <tr style=\"text-align: right;\">\n",
       "      <th></th>\n",
       "      <th>UUID</th>\n",
       "      <th>_id.$oid</th>\n",
       "    </tr>\n",
       "  </thead>\n",
       "  <tbody>\n",
       "    <tr>\n",
       "      <th>0</th>\n",
       "      <td>4973e61c-c96c-47a0-bbc8-6671d7480341</td>\n",
       "      <td>5fb6e050578328c98e6322ca</td>\n",
       "    </tr>\n",
       "    <tr>\n",
       "      <th>1</th>\n",
       "      <td>4973e61c-c96c-47a0-bbc8-6671d7480341</td>\n",
       "      <td>5fb6e056578328c98e6322cb</td>\n",
       "    </tr>\n",
       "    <tr>\n",
       "      <th>2</th>\n",
       "      <td>4973e61c-c96c-47a0-bbc8-6671d7480341</td>\n",
       "      <td>5fb6e05a578328c98e6322cc</td>\n",
       "    </tr>\n",
       "    <tr>\n",
       "      <th>3</th>\n",
       "      <td>4973e61c-c96c-47a0-bbc8-6671d7480341</td>\n",
       "      <td>5fb6e05a578328c98e6322cd</td>\n",
       "    </tr>\n",
       "    <tr>\n",
       "      <th>4</th>\n",
       "      <td>6597767d-39cf-406d-91aa-c978e9692138</td>\n",
       "      <td>5fb6e05b578328c98e6322ce</td>\n",
       "    </tr>\n",
       "    <tr>\n",
       "      <th>...</th>\n",
       "      <td>...</td>\n",
       "      <td>...</td>\n",
       "    </tr>\n",
       "    <tr>\n",
       "      <th>1066</th>\n",
       "      <td>8acb006d-f5e4-467f-8873-ea12705524eb</td>\n",
       "      <td>605625cd1066e2827b2a39fa</td>\n",
       "    </tr>\n",
       "    <tr>\n",
       "      <th>1067</th>\n",
       "      <td>8acb006d-f5e4-467f-8873-ea12705524eb</td>\n",
       "      <td>605626261066e2827b2a39fb</td>\n",
       "    </tr>\n",
       "    <tr>\n",
       "      <th>1068</th>\n",
       "      <td>467c6d9f-4c54-47a7-b843-6cc7cec518d0</td>\n",
       "      <td>6057708e1066e2827b2a39fd</td>\n",
       "    </tr>\n",
       "    <tr>\n",
       "      <th>1069</th>\n",
       "      <td>467c6d9f-4c54-47a7-b843-6cc7cec518d0</td>\n",
       "      <td>605770a61066e2827b2a39fe</td>\n",
       "    </tr>\n",
       "    <tr>\n",
       "      <th>1070</th>\n",
       "      <td>fc2ed480-3101-4bd5-89e5-260c86362815</td>\n",
       "      <td>605e0e5e1066e2827b2a3a00</td>\n",
       "    </tr>\n",
       "  </tbody>\n",
       "</table>\n",
       "<p>1071 rows × 2 columns</p>\n",
       "</div>"
      ],
      "text/plain": [
       "                                      UUID                  _id.$oid\n",
       "0     4973e61c-c96c-47a0-bbc8-6671d7480341  5fb6e050578328c98e6322ca\n",
       "1     4973e61c-c96c-47a0-bbc8-6671d7480341  5fb6e056578328c98e6322cb\n",
       "2     4973e61c-c96c-47a0-bbc8-6671d7480341  5fb6e05a578328c98e6322cc\n",
       "3     4973e61c-c96c-47a0-bbc8-6671d7480341  5fb6e05a578328c98e6322cd\n",
       "4     6597767d-39cf-406d-91aa-c978e9692138  5fb6e05b578328c98e6322ce\n",
       "...                                    ...                       ...\n",
       "1066  8acb006d-f5e4-467f-8873-ea12705524eb  605625cd1066e2827b2a39fa\n",
       "1067  8acb006d-f5e4-467f-8873-ea12705524eb  605626261066e2827b2a39fb\n",
       "1068  467c6d9f-4c54-47a7-b843-6cc7cec518d0  6057708e1066e2827b2a39fd\n",
       "1069  467c6d9f-4c54-47a7-b843-6cc7cec518d0  605770a61066e2827b2a39fe\n",
       "1070  fc2ed480-3101-4bd5-89e5-260c86362815  605e0e5e1066e2827b2a3a00\n",
       "\n",
       "[1071 rows x 2 columns]"
      ]
     },
     "execution_count": 5,
     "metadata": {},
     "output_type": "execute_result"
    }
   ],
   "source": [
    "gameplays[[\"UUID\",'_id.$oid']]"
   ]
  },
  {
   "cell_type": "code",
   "execution_count": 6,
   "metadata": {},
   "outputs": [
    {
     "data": {
      "text/plain": [
       "Text(0.5, 0, 'score')"
      ]
     },
     "execution_count": 6,
     "metadata": {},
     "output_type": "execute_result"
    },
    {
     "data": {
      "image/png": "[encoded data removed]",
      "text/plain": [
       "<Figure size 432x288 with 1 Axes>"
      ]
     },
     "metadata": {
      "needs_background": "light"
     },
     "output_type": "display_data"
    }
   ],
   "source": [
    "# Score distribution, all games\n",
    "\n",
    "ax = gameplays[\"actualDistance\"].hist(bins=100, legend=True)\n",
    "ax.set_xlabel(\"score\")"
   ]
  },
  {
   "cell_type": "code",
   "execution_count": 7,
   "metadata": {},
   "outputs": [],
   "source": [
    "def count_piechart(collection, column):\n",
    "    collection[column]\n",
    "    counts = collection[column].groupby(collection[column]).count()\n",
    "\n",
    "    labels = []\n",
    "    for type_ in counts.index:\n",
    "        percentage = \"%.2f\" % (counts[type_]/counts.sum()*100)\n",
    "        labels.append(str(type_) + \"\\n\" + str(percentage) + \"%\")\n",
    "    labels\n",
    "\n",
    "    p = plt.pie(counts, labels=labels)"
   ]
  },
  {
   "cell_type": "code",
   "execution_count": 8,
   "metadata": {},
   "outputs": [
    {
     "data": {
      "image/png": "[encoded data removed]",
      "text/plain": [
       "<Figure size 432x288 with 1 Axes>"
      ]
     },
     "metadata": {},
     "output_type": "display_data"
    }
   ],
   "source": [
    "# What obstacle do players collide with upon dying?\n",
    "\n",
    "count_piechart(gameplays, \"collisionObstacle.typeConfig.type\")"
   ]
  },
  {
   "cell_type": "code",
   "execution_count": 9,
   "metadata": {},
   "outputs": [
    {
     "data": {
      "image/png": "[encoded data removed]",
      "text/plain": [
       "<Figure size 432x288 with 1 Axes>"
      ]
     },
     "metadata": {},
     "output_type": "display_data"
    }
   ],
   "source": [
    "# Do players die during nightmode? \n",
    "\n",
    "count_piechart(gameplays,\"invertedGameOver\")"
   ]
  },
  {
   "cell_type": "code",
   "execution_count": 10,
   "metadata": {},
   "outputs": [
    {
     "data": {
      "image/png": "[encoded data removed]",
      "text/plain": [
       "<Figure size 432x288 with 2 Axes>"
      ]
     },
     "metadata": {
      "needs_background": "light"
     },
     "output_type": "display_data"
    }
   ],
   "source": [
    "# Are there any correlations between these relevant columns?\n",
    "# actualDistance (score)  ~  nr_jumps \n",
    "# night_mode enabled      ~  invertedGameOver\n",
    "\n",
    "import seaborn as sns\n",
    "corr = gameplays[[\"nr_jumps\", \"actualDistance\", \"invertedGameOver\", \"parameters.CLEAR_TIME\", \"parameters.MIN_GAP\", 'parameters.MAX_GAP',  \"parameters.SPEED\", \"parameters.ACCELERATION\", 'parameters.NIGHT_MODE_ENABLED', 'parameters.NIGHT_MODE_DISTANCE','parameters.MAX_OBSTACLE_LENGTH',   ]].corr()\n",
    "ax = sns.heatmap(\n",
    "    corr, \n",
    "    vmin=-1, vmax=1, center=0,\n",
    "    cmap=sns.diverging_palette(20, 220, n=200),\n",
    "    square=True\n",
    ")\n",
    "ax.set_xticklabels(\n",
    "    ax.get_xticklabels(),\n",
    "    rotation=-45,\n",
    "    horizontalalignment='left'\n",
    ");"
   ]
  },
  {
   "cell_type": "code",
   "execution_count": 11,
   "metadata": {},
   "outputs": [
    {
     "data": {
      "text/plain": [
       "<AxesSubplot:xlabel='nr_jumps', ylabel='actualDistance'>"
      ]
     },
     "execution_count": 11,
     "metadata": {},
     "output_type": "execute_result"
    },
    {
     "data": {
      "image/png": "[encoded data removed]",
      "text/plain": [
       "<Figure size 432x288 with 1 Axes>"
      ]
     },
     "metadata": {
      "needs_background": "light"
     },
     "output_type": "display_data"
    }
   ],
   "source": [
    "# actualDistance (score)  ~  nr_jumps \n",
    "# linear, a few outliers\n",
    "\n",
    "gameplays.plot(x=\"nr_jumps\", y=\"actualDistance\", kind=\"scatter\")"
   ]
  },
  {
   "cell_type": "code",
   "execution_count": 12,
   "metadata": {},
   "outputs": [
    {
     "data": {
      "text/plain": [
       "<AxesSubplot:xlabel='invertedGameOver', ylabel='parameters.SPEED'>"
      ]
     },
     "execution_count": 12,
     "metadata": {},
     "output_type": "execute_result"
    },
    {
     "data": {
      "image/png": "[encoded data removed]",
      "text/plain": [
       "<Figure size 432x288 with 1 Axes>"
      ]
     },
     "metadata": {
      "needs_background": "light"
     },
     "output_type": "display_data"
    }
   ],
   "source": [
    "# Does speed have an effect on when players die during night mode?\n",
    "# todo: filter out only games where night mode is enabled\n",
    "\n",
    "sns.boxplot(y=gameplays['parameters.SPEED'], x=gameplays['invertedGameOver'])"
   ]
  },
  {
   "cell_type": "code",
   "execution_count": 13,
   "metadata": {},
   "outputs": [
    {
     "data": {
      "text/plain": [
       "<AxesSubplot:xlabel='obstacleTypes', ylabel='actualDistance:mean'>"
      ]
     },
     "execution_count": 13,
     "metadata": {},
     "output_type": "execute_result"
    },
    {
     "data": {
      "image/png": "[encoded data removed]",
      "text/plain": [
       "<Figure size 432x288 with 1 Axes>"
      ]
     },
     "metadata": {
      "needs_background": "light"
     },
     "output_type": "display_data"
    }
   ],
   "source": [
    "# mean score per obstacleTypes config\n",
    "# -> get a feeling of difficulty per 'rank'\n",
    "\n",
    "def normalize_obstacleType(entries):\n",
    "    return ', '.join([obstacleType['type'] for obstacleType in entries])\n",
    "normalized_obstacleTypes = gameplays[\"obstacleTypes\"].apply(normalize_obstacleType)\n",
    "#print(normalized_obstacleTypes)\n",
    "group_means = gameplays[\"actualDistance\"].groupby(normalized_obstacleTypes).mean().sort_values(ascending=False)\n",
    "#print(group_means)\n",
    "\n",
    "ax = group_means.plot(kind=\"bar\")\n",
    "# rotate x labels\n",
    "ax.set_xticklabels(\n",
    "    ax.get_xticklabels(),\n",
    "    rotation=-45,\n",
    "    horizontalalignment='left'\n",
    ");\n",
    "ax.set_ylabel(\"actualDistance:mean\")\n",
    "ax"
   ]
  },
  {
   "cell_type": "code",
   "execution_count": 24,
   "metadata": {},
   "outputs": [
    {
     "data": {
      "text/html": [
       "<div>\n",
       "<style scoped>\n",
       "    .dataframe tbody tr th:only-of-type {\n",
       "        vertical-align: middle;\n",
       "    }\n",
       "\n",
       "    .dataframe tbody tr th {\n",
       "        vertical-align: top;\n",
       "    }\n",
       "\n",
       "    .dataframe thead th {\n",
       "        text-align: right;\n",
       "    }\n",
       "</style>\n",
       "<table border=\"1\" class=\"dataframe\">\n",
       "  <thead>\n",
       "    <tr style=\"text-align: right;\">\n",
       "      <th></th>\n",
       "      <th>secondlastentry</th>\n",
       "      <th>lastentry</th>\n",
       "      <th>fun</th>\n",
       "      <th>challenging</th>\n",
       "      <th>frustrating</th>\n",
       "      <th>time</th>\n",
       "      <th>USERID</th>\n",
       "      <th>_id.$oid</th>\n",
       "    </tr>\n",
       "  </thead>\n",
       "  <tbody>\n",
       "    <tr>\n",
       "      <th>0</th>\n",
       "      <td>5fb6e066578328c98e6322cf</td>\n",
       "      <td>5fb6e45fb472c8cc964ed7b7</td>\n",
       "      <td>lastentry</td>\n",
       "      <td>lastentry</td>\n",
       "      <td>secondlastentry</td>\n",
       "      <td>22819.465</td>\n",
       "      <td>6597767d-39cf-406d-91aa-c978e9692138</td>\n",
       "      <td>5fb6e479b472c8cc964ed7b8</td>\n",
       "    </tr>\n",
       "    <tr>\n",
       "      <th>1</th>\n",
       "      <td>5fb6e320578328c98e6322d0</td>\n",
       "      <td>5fb6efe9b472c8cc964ed7b9</td>\n",
       "      <td>secondlastentry</td>\n",
       "      <td>lastentry</td>\n",
       "      <td>secondlastentry,lastentry</td>\n",
       "      <td>3501.885</td>\n",
       "      <td>4973e61c-c96c-47a0-bbc8-6671d7480341</td>\n",
       "      <td>5fb6eff0b472c8cc964ed7ba</td>\n",
       "    </tr>\n",
       "    <tr>\n",
       "      <th>2</th>\n",
       "      <td>5fb7e437b472c8cc964ed7bc</td>\n",
       "      <td>5fb7e442b472c8cc964ed7bd</td>\n",
       "      <td>lastentry</td>\n",
       "      <td>lastentry</td>\n",
       "      <td>lastentry</td>\n",
       "      <td>6717.495</td>\n",
       "      <td>8284f581-eb66-4c8b-95ce-16b161b68e2a</td>\n",
       "      <td>5fb7e44bb472c8cc964ed7be</td>\n",
       "    </tr>\n",
       "    <tr>\n",
       "      <th>3</th>\n",
       "      <td>5fb7ed35b472c8cc964ed7bf</td>\n",
       "      <td>5fb7ed58b472c8cc964ed7c0</td>\n",
       "      <td>lastentry</td>\n",
       "      <td>neither</td>\n",
       "      <td>neither</td>\n",
       "      <td>19231.370</td>\n",
       "      <td>8b17c68b-e9ff-454c-80c0-41baea4bb272</td>\n",
       "      <td>5fb7ed6eb472c8cc964ed7c1</td>\n",
       "    </tr>\n",
       "    <tr>\n",
       "      <th>4</th>\n",
       "      <td>5fb7eeb8b472c8cc964ed7c2</td>\n",
       "      <td>5fb7eeebb472c8cc964ed7c3</td>\n",
       "      <td>lastentry</td>\n",
       "      <td>secondlastentry</td>\n",
       "      <td>secondlastentry</td>\n",
       "      <td>11961.000</td>\n",
       "      <td>c6291e5d-f5f6-4ed7-b403-818ec9814067</td>\n",
       "      <td>5fb7eefab472c8cc964ed7c4</td>\n",
       "    </tr>\n",
       "    <tr>\n",
       "      <th>...</th>\n",
       "      <td>...</td>\n",
       "      <td>...</td>\n",
       "      <td>...</td>\n",
       "      <td>...</td>\n",
       "      <td>...</td>\n",
       "      <td>...</td>\n",
       "      <td>...</td>\n",
       "      <td>...</td>\n",
       "    </tr>\n",
       "    <tr>\n",
       "      <th>518</th>\n",
       "      <td>605214f21066e2827b2a39ec</td>\n",
       "      <td>6052152e1066e2827b2a39ed</td>\n",
       "      <td>lastentry</td>\n",
       "      <td>lastentry</td>\n",
       "      <td>secondlastentry</td>\n",
       "      <td>11938.165</td>\n",
       "      <td>b565c9e2-fcb8-4d63-acdb-b43ca628ef71</td>\n",
       "      <td>6052153d1066e2827b2a39ee</td>\n",
       "    </tr>\n",
       "    <tr>\n",
       "      <th>519</th>\n",
       "      <td>6052175d1066e2827b2a39ef</td>\n",
       "      <td>605217731066e2827b2a39f0</td>\n",
       "      <td>lastentry</td>\n",
       "      <td>lastentry</td>\n",
       "      <td>secondlastentry</td>\n",
       "      <td>6981.965</td>\n",
       "      <td>b1dbb85d-bdee-436e-b781-e869d7c86a3f</td>\n",
       "      <td>6052177d1066e2827b2a39f1</td>\n",
       "    </tr>\n",
       "    <tr>\n",
       "      <th>520</th>\n",
       "      <td>605217731066e2827b2a39f0</td>\n",
       "      <td>605217c61066e2827b2a39f2</td>\n",
       "      <td>secondlastentry</td>\n",
       "      <td>secondlastentry</td>\n",
       "      <td>lastentry</td>\n",
       "      <td>7266.165</td>\n",
       "      <td>b1dbb85d-bdee-436e-b781-e869d7c86a3f</td>\n",
       "      <td>605217d01066e2827b2a39f3</td>\n",
       "    </tr>\n",
       "    <tr>\n",
       "      <th>521</th>\n",
       "      <td>605625cd1066e2827b2a39fa</td>\n",
       "      <td>605626261066e2827b2a39fb</td>\n",
       "      <td>secondlastentry</td>\n",
       "      <td>secondlastentry</td>\n",
       "      <td>secondlastentry</td>\n",
       "      <td>78137.420</td>\n",
       "      <td>8acb006d-f5e4-467f-8873-ea12705524eb</td>\n",
       "      <td>605626781066e2827b2a39fc</td>\n",
       "    </tr>\n",
       "    <tr>\n",
       "      <th>522</th>\n",
       "      <td>6057708e1066e2827b2a39fd</td>\n",
       "      <td>605770a61066e2827b2a39fe</td>\n",
       "      <td>lastentry</td>\n",
       "      <td>lastentry</td>\n",
       "      <td>neither</td>\n",
       "      <td>10022.760</td>\n",
       "      <td>467c6d9f-4c54-47a7-b843-6cc7cec518d0</td>\n",
       "      <td>605770b21066e2827b2a39ff</td>\n",
       "    </tr>\n",
       "  </tbody>\n",
       "</table>\n",
       "<p>523 rows × 8 columns</p>\n",
       "</div>"
      ],
      "text/plain": [
       "              secondlastentry                 lastentry              fun  \\\n",
       "0    5fb6e066578328c98e6322cf  5fb6e45fb472c8cc964ed7b7        lastentry   \n",
       "1    5fb6e320578328c98e6322d0  5fb6efe9b472c8cc964ed7b9  secondlastentry   \n",
       "2    5fb7e437b472c8cc964ed7bc  5fb7e442b472c8cc964ed7bd        lastentry   \n",
       "3    5fb7ed35b472c8cc964ed7bf  5fb7ed58b472c8cc964ed7c0        lastentry   \n",
       "4    5fb7eeb8b472c8cc964ed7c2  5fb7eeebb472c8cc964ed7c3        lastentry   \n",
       "..                        ...                       ...              ...   \n",
       "518  605214f21066e2827b2a39ec  6052152e1066e2827b2a39ed        lastentry   \n",
       "519  6052175d1066e2827b2a39ef  605217731066e2827b2a39f0        lastentry   \n",
       "520  605217731066e2827b2a39f0  605217c61066e2827b2a39f2  secondlastentry   \n",
       "521  605625cd1066e2827b2a39fa  605626261066e2827b2a39fb  secondlastentry   \n",
       "522  6057708e1066e2827b2a39fd  605770a61066e2827b2a39fe        lastentry   \n",
       "\n",
       "         challenging                frustrating       time  \\\n",
       "0          lastentry            secondlastentry  22819.465   \n",
       "1          lastentry  secondlastentry,lastentry   3501.885   \n",
       "2          lastentry                  lastentry   6717.495   \n",
       "3            neither                    neither  19231.370   \n",
       "4    secondlastentry            secondlastentry  11961.000   \n",
       "..               ...                        ...        ...   \n",
       "518        lastentry            secondlastentry  11938.165   \n",
       "519        lastentry            secondlastentry   6981.965   \n",
       "520  secondlastentry                  lastentry   7266.165   \n",
       "521  secondlastentry            secondlastentry  78137.420   \n",
       "522        lastentry                    neither  10022.760   \n",
       "\n",
       "                                   USERID                  _id.$oid  \n",
       "0    6597767d-39cf-406d-91aa-c978e9692138  5fb6e479b472c8cc964ed7b8  \n",
       "1    4973e61c-c96c-47a0-bbc8-6671d7480341  5fb6eff0b472c8cc964ed7ba  \n",
       "2    8284f581-eb66-4c8b-95ce-16b161b68e2a  5fb7e44bb472c8cc964ed7be  \n",
       "3    8b17c68b-e9ff-454c-80c0-41baea4bb272  5fb7ed6eb472c8cc964ed7c1  \n",
       "4    c6291e5d-f5f6-4ed7-b403-818ec9814067  5fb7eefab472c8cc964ed7c4  \n",
       "..                                    ...                       ...  \n",
       "518  b565c9e2-fcb8-4d63-acdb-b43ca628ef71  6052153d1066e2827b2a39ee  \n",
       "519  b1dbb85d-bdee-436e-b781-e869d7c86a3f  6052177d1066e2827b2a39f1  \n",
       "520  b1dbb85d-bdee-436e-b781-e869d7c86a3f  605217d01066e2827b2a39f3  \n",
       "521  8acb006d-f5e4-467f-8873-ea12705524eb  605626781066e2827b2a39fc  \n",
       "522  467c6d9f-4c54-47a7-b843-6cc7cec518d0  605770b21066e2827b2a39ff  \n",
       "\n",
       "[523 rows x 8 columns]"
      ]
     },
     "execution_count": 24,
     "metadata": {},
     "output_type": "execute_result"
    }
   ],
   "source": [
    "questionresponses"
   ]
  },
  {
   "cell_type": "code",
   "execution_count": 160,
   "metadata": {},
   "outputs": [
    {
     "data": {
      "image/png": "[encoded data removed]",
      "text/plain": [
       "<Figure size 1440x360 with 3 Axes>"
      ]
     },
     "metadata": {
      "needs_background": "light"
     },
     "output_type": "display_data"
    }
   ],
   "source": [
    "def explode_positive_counts_of(x): # questionresonses\n",
    "    a = questionresponses\n",
    "    a = a.explode(x)\n",
    "    a['selected'] = np.where(a[x]=='secondlastentry', a['secondlastentry'], a['lastentry'])\n",
    "    return a[[x, 'selected']]\n",
    "\n",
    "\n",
    "def append_column_on_selected_id(db, parameter):\n",
    "    a = db.merge(gameplays, left_on='selected', right_on='_id.$oid')\n",
    "    return a[[parameter, \"selected\"]]\n",
    "    \n",
    "def group_positive_counts(column, group):\n",
    "    exploded = explode_positive_counts_of(column)\n",
    "    s = append_column_on_selected_id(exploded, group)\n",
    "    counts = s[group].groupby(s[group]).count()\n",
    "    return counts\n",
    "\n",
    "columns = [\"fun\", \"challenging\", \"frustrating\"]\n",
    "def draw_positive_counts(group):\n",
    "    plt.figure(figsize=(20, 5))\n",
    "    for i, column in enumerate(columns):\n",
    "        plt.subplot(1, 3, i+1)\n",
    "        frustrating_speed_counts = group_positive_counts(column, group)\n",
    "        ax1 = frustrating_speed_counts.plot(kind=\"bar\", title=\"games evaluated as \" + column)\n",
    "    \n",
    "draw_positive_counts(\"parameters.SPEED\")"
   ]
  },
  {
   "cell_type": "code",
   "execution_count": 158,
   "metadata": {},
   "outputs": [
    {
     "data": {
      "text/plain": [
       "<AxesSubplot:title={'center':'generated games'}, xlabel='parameters.SPEED'>"
      ]
     },
     "execution_count": 158,
     "metadata": {},
     "output_type": "execute_result"
    },
    {
     "data": {
      "image/png": "[encoded data removed]",
      "text/plain": [
       "<Figure size 432x360 with 1 Axes>"
      ]
     },
     "metadata": {
      "needs_background": "light"
     },
     "output_type": "display_data"
    }
   ],
   "source": [
    "plt.figure(figsize=(6, 5))\n",
    "gameplays[\"parameters.SPEED\"].groupby(gameplays[\"parameters.SPEED\"]).count().plot(kind=\"bar\", title=\"generated games\")"
   ]
  },
  {
   "cell_type": "code",
   "execution_count": 95,
   "metadata": {},
   "outputs": [
    {
     "data": {
      "image/png": "[encoded data removed]",
      "text/plain": [
       "<Figure size 432x288 with 1 Axes>"
      ]
     },
     "metadata": {
      "needs_background": "light"
     },
     "output_type": "display_data"
    }
   ],
   "source": [
    "frustrating_speed_counts = group_positive_counts('fun', \"parameters.SPEED\")\n",
    "ax = frustrating_speed_counts.plot(kind=\"bar\", title='fun')"
   ]
  },
  {
   "cell_type": "code",
   "execution_count": 96,
   "metadata": {},
   "outputs": [
    {
     "data": {
      "image/png": "[encoded data removed]",
      "text/plain": [
       "<Figure size 432x288 with 1 Axes>"
      ]
     },
     "metadata": {
      "needs_background": "light"
     },
     "output_type": "display_data"
    }
   ],
   "source": []
  },
  {
   "cell_type": "code",
   "execution_count": null,
   "metadata": {},
   "outputs": [],
   "source": []
  }
 ],
 "metadata": {
  "kernelspec": {
   "display_name": "Python 3",
   "language": "python",
   "name": "python3"
  },
  "language_info": {
   "codemirror_mode": {
    "name": "ipython",
    "version": 3
   },
   "file_extension": ".py",
   "mimetype": "text/x-python",
   "name": "python",
   "nbconvert_exporter": "python",
   "pygments_lexer": "ipython3",
   "version": "3.8.5"
  }
 },
 "nbformat": 4,
 "nbformat_minor": 4
}
