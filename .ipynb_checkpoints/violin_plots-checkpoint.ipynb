{
 "cells": [
  {
   "cell_type": "code",
   "execution_count": 7,
   "metadata": {},
   "outputs": [],
   "source": [
    "import pandas as pd\n",
    "import matplotlib.pyplot as plt\n",
    "import json\n",
    "import numpy as np\n",
    "import seaborn as sns\n",
    "\n",
    "from ipynb.fs.full.common import *\n"
   ]
  },
  {
   "cell_type": "code",
   "execution_count": 9,
   "metadata": {},
   "outputs": [],
   "source": [
    "# load gameplays\n",
    "gameplays = pd.json_normalize(pd.Series(open(r\"C:\\Users\\Yasmine Bogaert\\Documents\\thesis\\dump\\dump_30-03-2021\\csv\\gameplays.json\").readlines()).apply(json.loads))\n",
    "gameplays = preprocess_gameplays(gameplays)"
   ]
  },
  {
   "cell_type": "code",
   "execution_count": 10,
   "metadata": {},
   "outputs": [],
   "source": [
    "# load questionresponses and expand the response columns to contain \"lastentry\" and \"secondlastentry\" instead of 'A', 'B' or 'BOTH'\n",
    "questionresponses = pd.json_normalize(pd.Series(open(r\"C:\\Users\\Yasmine Bogaert\\Documents\\thesis\\dump\\dump_30-03-2021\\csv\\questionresponses.json\").readlines()).apply(json.loads))\n",
    "questionresponses = expand_questionresponses(questionresponses)"
   ]
  },
  {
   "cell_type": "code",
   "execution_count": 17,
   "metadata": {},
   "outputs": [
    {
     "data": {
      "image/png": "[encoded data removed]",
      "text/plain": [
       "<Figure size 432x288 with 3 Axes>"
      ]
     },
     "metadata": {
      "needs_background": "light"
     },
     "output_type": "display_data"
    },
    {
     "data": {
      "text/plain": [
       "<Figure size 432x288 with 0 Axes>"
      ]
     },
     "metadata": {},
     "output_type": "display_data"
    },
    {
     "data": {
      "text/plain": [
       "<Figure size 432x288 with 0 Axes>"
      ]
     },
     "metadata": {},
     "output_type": "display_data"
    },
    {
     "data": {
      "text/plain": [
       "<Figure size 432x288 with 0 Axes>"
      ]
     },
     "metadata": {},
     "output_type": "display_data"
    }
   ],
   "source": [
    "def explode_positive_counts_of(x): # questionresonses\n",
    "    a = questionresponses\n",
    "    a = a.explode(x)\n",
    "    a['selected'] = np.where(a[x]=='secondlastentry', a['secondlastentry'], a['lastentry'])\n",
    "    return a[[x, 'selected']]\n",
    "\n",
    "def append_column_on_selected_id(db, parameter):\n",
    "    a = db.merge(gameplays, left_on='selected', right_on='_id.$oid')\n",
    "    return a[[parameter, \"selected\"]]\n",
    "\n",
    "fig, axs = plt.subplots(ncols=3)\n",
    "\n",
    "def thing():\n",
    "    return math.pow(floor(math.log(n)/math.log(10)), 10);\n",
    "\n",
    "def draw_violin_plots(parameter, range_min, range_max):\n",
    "    exploded = explode_positive_counts_of(\"fun\")\n",
    "    s = append_column_on_selected_id(exploded, \"actualDistance\")\n",
    "    draw_violin_plot(\n",
    "        data = s['actualDistance'], \n",
    "        ax = axs[0], \n",
    "        text_x = -0.25, \n",
    "        text_y = (range_max - range_min) * 0.8, \n",
    "        text = \"M = %.2f\" % (s['actualDistance'].mean()), \n",
    "        y_ticks = ,\n",
    "        x_label = ,\n",
    "        ylabel = ,\n",
    "        range_min = range_min,\n",
    "        range_max = range_max    )\n",
    "    plt.figure(np.arange(range_min, range_max, 1000))\n",
    "    g = sns.violinplot(y=s['actualDistance'],  inner=\"quartile\", ax=axs[0])\n",
    "    g.set(ylim=(range_min, range_max))\n",
    "    axs[0].yaxis.set_ticks(np.arange(0, 6000, 1000))\n",
    "    axs[0].set_ylabel(\"score\")\n",
    "    axs[0].set_xlabel(\"fun\")\n",
    "    axs[0].text(-0.25, (range_max - range_min) * 0.8, \"M = %.2f\" % (s['actualDistance'].mean()), fontsize=10)\n",
    "\n",
    "    exploded = explode_positive_counts_of(\"frustrating\")\n",
    "    s = append_column_on_selected_id(exploded, \"actualDistance\")\n",
    "    plt.figure()\n",
    "    g= sns.violinplot(y=s['actualDistance'],  inner=\"quartile\", ax=axs[1])\n",
    "    g.set(ylim=(range_min, range_max))\n",
    "    axs[1].yaxis.set_ticklabels([])\n",
    "    axs[1].set_ylabel(\"\")\n",
    "    axs[1].set_xlabel(\"frustrating\")\n",
    "    axs[1].text(-0.25, (range_max - range_min) * 0.8, \"M = %.2f\" % (s['actualDistance'].mean()), fontsize=10)\n",
    "\n",
    "    exploded = explode_positive_counts_of(\"challenging\")\n",
    "    s = append_column_on_selected_id(exploded, \"actualDistance\")\n",
    "    plt.figure()\n",
    "    g = sns.violinplot(y=s['actualDistance'],  inner=\"quartile\", ax=axs[2])\n",
    "    g.set(ylim=(range_min, range_max))\n",
    "    axs[2].yaxis.set_ticklabels([])\n",
    "    axs[2].set_ylabel(\"\")\n",
    "    axs[2].set_xlabel(\"challenging\")\n",
    "    axs[2].text(-0.25, (range_max - range_min) * 0.8, \"M = %.2f\" % (s['actualDistance'].mean()), fontsize=10)\n",
    "    \n",
    "def draw_violin_plot(data, ax, text_x, text_y, text, y_ticks = None, ylabel, xlabel, range_min, range_max):\n",
    "    plt.figure()\n",
    "    g = sns.violinplot(y=data,  inner=\"quartile\", ax=ax)\n",
    "    g.set(ylim=(range_min, range_max))\n",
    "    if y_ticks is not None:\n",
    "        ax.yaxis.set_ticks(y_ticks)\n",
    "    else:\n",
    "        ax.yaxis.set_ticklabels([])\n",
    "    ax.set_ylabel(ylabel)\n",
    "    ax.set_xlabel(xlabel)\n",
    "    ax.text(text_x, text_y, text, fontsize=10)\n",
    "    \n",
    "draw_violin_plots('actualDistance', -1000, 7000)"
   ]
  },
  {
   "cell_type": "code",
   "execution_count": null,
   "metadata": {},
   "outputs": [],
   "source": []
  }
 ],
 "metadata": {
  "kernelspec": {
   "display_name": "Python 3",
   "language": "python",
   "name": "python3"
  },
  "language_info": {
   "codemirror_mode": {
    "name": "ipython",
    "version": 3
   },
   "file_extension": ".py",
   "mimetype": "text/x-python",
   "name": "python",
   "nbconvert_exporter": "python",
   "pygments_lexer": "ipython3",
   "version": "3.8.5"
  }
 },
 "nbformat": 4,
 "nbformat_minor": 4
}
