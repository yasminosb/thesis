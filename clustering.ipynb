{
 "cells": [
  {
   "cell_type": "code",
   "execution_count": 10,
   "metadata": {},
   "outputs": [
    {
     "data": {
      "text/plain": [
       "0       0\n",
       "1       2\n",
       "2       2\n",
       "3       1\n",
       "4       2\n",
       "       ..\n",
       "1041    2\n",
       "1042    1\n",
       "1043    1\n",
       "1044    1\n",
       "1045    0\n",
       "Name: collisionObstacle.typeConfig.type, Length: 1046, dtype: int64"
      ]
     },
     "execution_count": 10,
     "metadata": {},
     "output_type": "execute_result"
    }
   ],
   "source": [
    "import pandas as pd\n",
    "import json\n",
    "import numpy as np\n",
    "# secondlastentry & lastentry correspond to '_id.$oid' from gameplays db\n",
    "gameplays = pd.json_normalize(pd.Series(open(r\"C:\\Users\\Yasmine Bogaert\\Documents\\thesis\\dump\\dump_30-03-2021\\csv\\gameplays.json\").readlines()).apply(json.loads))\n",
    "questionresponses = pd.json_normalize(pd.Series(open(r\"C:\\Users\\Yasmine Bogaert\\Documents\\thesis\\dump\\dump_30-03-2021\\csv\\questionresponses.json\").readlines()).apply(json.loads))\n",
    "\n",
    "d = {\n",
    "  \"A\": \"secondlastentry\",\n",
    "  \"B\": \"lastentry\"\n",
    "}\n",
    "def expand_AB(x):\n",
    "    if x in d:\n",
    "        return d[x]\n",
    "    else:\n",
    "        return x\n",
    "\n",
    "def expand_BOTH (x):\n",
    "    if x == \"both\":\n",
    "        return [\"secondlastentry\",\"lastentry\"]\n",
    "    else:\n",
    "        return x\n",
    "    \n",
    "def replace_column(db, column, function):\n",
    "    db[column] = db[column].apply(function)\n",
    "\n",
    "columns = [\"fun\", \"challenging\", \"frustrating\"]\n",
    "\n",
    "def expand_AB_all():\n",
    "    for column in columns:\n",
    "        replace_column(questionresponses, column, lambda x: expand_AB(x))\n",
    "\n",
    "def expand_BOTH_all():\n",
    "    for column in columns:\n",
    "        replace_column(questionresponses, column, lambda x: expand_BOTH(x))\n",
    "expand_AB_all()\n",
    "expand_BOTH_all()\n",
    "questionresponses\n",
    "\n",
    "def explode_questionresponses():\n",
    "    # explode questionresponses on secondlastentry and lastentry, + indicate which_entry \n",
    "    q = questionresponses\n",
    "    q['entry'] = q[['secondlastentry', 'lastentry']].values.tolist()\n",
    "    q = q.explode('entry')\n",
    "    q['original_index'] = q.index\n",
    "    q['which_entry'] = np.where((q['entry'] == q['secondlastentry']), 'secondlastentry', 'lastentry')\n",
    "    q = q[['entry', 'which_entry', 'fun', 'challenging', 'frustrating']]\n",
    "    q\n",
    "    \n",
    "    # transform columns\n",
    "    columns = ['fun', 'challenging', 'frustrating']\n",
    "    for column in columns:\n",
    "        # turn every element into list, even if its a single element\n",
    "        q[column] = q[column].apply(lambda x: x if(isinstance(x, list)) else [x])\n",
    "        #check if the value corresponds to the correct entry\n",
    "        kwargs = {column : lambda x: [a in b for a,b in zip(q['which_entry'],q[column])]}\n",
    "        q = q.assign(**kwargs)\n",
    "    q[['entry', 'fun', 'challenging', 'frustrating']]\n",
    "    \n",
    "    # append gameplay data\n",
    "    a = q.merge(gameplays, left_on='entry', right_on='_id.$oid')\n",
    "    return a\n",
    "a = explode_questionresponses()\n",
    "\n",
    "# converst collisionObstacle to ints\n",
    "dict = {'CACTUS_LARGE':0, 'CACTUS_SMALL':1, 'PTERODACTYL':2}\n",
    "if(isinstance(a['collisionObstacle.typeConfig.type'][0], str)):\n",
    "    a['collisionObstacle.typeConfig.type'] = a['collisionObstacle.typeConfig.type'].replace(dict)\n",
    "\n",
    "a['collisionObstacle.typeConfig.type']"
   ]
  },
  {
   "cell_type": "code",
   "execution_count": 21,
   "metadata": {},
   "outputs": [
    {
     "name": "stdout",
     "output_type": "stream",
     "text": [
      "[[2.85714286e-01 1.06668571e+04]\n",
      " [5.69696970e-01 3.12737374e+02]\n",
      " [5.10204082e-01 3.25636735e+03]]\n"
     ]
    },
    {
     "data": {
      "image/png": "[encoded data removed]",
      "text/plain": [
       "<Figure size 432x288 with 1 Axes>"
      ]
     },
     "metadata": {
      "needs_background": "light"
     },
     "output_type": "display_data"
    }
   ],
   "source": [
    "import matplotlib.pyplot as plt\n",
    "from sklearn.cluster import KMeans\n",
    "\n",
    "df = a[[\n",
    "          'fun',\n",
    "          'challenging',\n",
    "          'frustrating',\n",
    "          'actualDistance',\n",
    "          'parameters.SPEED', \n",
    "          'parameters.ACCELERATION',\n",
    "          'parameters.MIN_GAP',\n",
    "          'parameters.NIGHT_MODE_ENABLED', \n",
    "          'parameters.NIGHT_MODE_DISTANCE',\n",
    "          'parameters.CLEAR_TIME', \n",
    "          'parameters.MAX_OBSTACLE_LENGTH',\n",
    "          'parameters.MAX_SPEED',\n",
    "          'parameters.MAX_GAP', \n",
    "          'actualDistance', \n",
    "          'collisionObstacle.typeConfig.type',\n",
    "          'nr_jumps',\n",
    "          'invertedGameOver'\n",
    "    ]]\n",
    "df = a[[\n",
    "    'fun',\n",
    "    'actualDistance'\n",
    "]]\n",
    "kmeans = KMeans(n_clusters=3).fit(df)\n",
    "centroids = kmeans.cluster_centers_\n",
    "print(centroids)\n",
    "\n",
    "plt.scatter(df['fun'], df['actualDistance'], c= kmeans.labels_.astype(float), s=50, alpha=0.5)\n",
    "plt.scatter(centroids[:, 0], centroids[:, 1], c='red', s=50)\n",
    "plt.show()"
   ]
  },
  {
   "cell_type": "code",
   "execution_count": null,
   "metadata": {},
   "outputs": [],
   "source": []
  }
 ],
 "metadata": {
  "kernelspec": {
   "display_name": "Python 3",
   "language": "python",
   "name": "python3"
  },
  "language_info": {
   "codemirror_mode": {
    "name": "ipython",
    "version": 3
   },
   "file_extension": ".py",
   "mimetype": "text/x-python",
   "name": "python",
   "nbconvert_exporter": "python",
   "pygments_lexer": "ipython3",
   "version": "3.8.5"
  }
 },
 "nbformat": 4,
 "nbformat_minor": 4
}
